{
 "cells": [
  {
   "cell_type": "code",
   "execution_count": 18,
   "id": "1b29fc5a-e427-44dc-82ab-362bac65b059",
   "metadata": {},
   "outputs": [
    {
     "name": "stdin",
     "output_type": "stream",
     "text": [
      "Enter a name: Ramcharan\n"
     ]
    },
    {
     "name": "stdout",
     "output_type": "stream",
     "text": [
      "narahcmaR\n"
     ]
    }
   ],
   "source": [
    "#Write a program that takes a string as input and prints the string in reverse order.\n",
    "s=input(\"Enter a name:\")\n",
    "x=s[::-1]\n",
    "print(x)"
   ]
  },
  {
   "cell_type": "code",
   "execution_count": null,
   "id": "64143abd-f0a7-4441-ae29-67570ddcf504",
   "metadata": {},
   "outputs": [],
   "source": []
  }
 ],
 "metadata": {
  "kernelspec": {
   "display_name": "Python [conda env:base] *",
   "language": "python",
   "name": "conda-base-py"
  },
  "language_info": {
   "codemirror_mode": {
    "name": "ipython",
    "version": 3
   },
   "file_extension": ".py",
   "mimetype": "text/x-python",
   "name": "python",
   "nbconvert_exporter": "python",
   "pygments_lexer": "ipython3",
   "version": "3.12.7"
  }
 },
 "nbformat": 4,
 "nbformat_minor": 5
}
